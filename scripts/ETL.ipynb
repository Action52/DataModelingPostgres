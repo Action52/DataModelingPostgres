{
 "cells": [
  {
   "cell_type": "code",
   "execution_count": 1,
   "id": "472421b0",
   "metadata": {},
   "outputs": [],
   "source": [
    "from dmp import PostgresConnector\n",
    "import pandas as pd\n",
    "import os\n",
    "from tqdm import tqdm\n",
    "from dmp.sql_queries import *\n",
    "from collections import Counter\n",
    "import datetime"
   ]
  },
  {
   "cell_type": "markdown",
   "id": "5f88d25b",
   "metadata": {},
   "source": [
    "### Helper Functions"
   ]
  },
  {
   "cell_type": "markdown",
   "id": "039aea4e",
   "metadata": {},
   "source": [
    "I'm using these 2 helper functions to append all the jsons on a dataframe."
   ]
  },
  {
   "cell_type": "code",
   "execution_count": 2,
   "id": "eee925e8",
   "metadata": {},
   "outputs": [],
   "source": [
    "def load_data_from_json(df, path):\n",
    "    return df.append(pd.read_json(path, lines=True))\n",
    "\n",
    "def load_dataset(df, path):\n",
    "    df = pd.DataFrame()\n",
    "    curdir = os.getcwd()\n",
    "    for(path, dirnames, filenames) in os.walk(path):\n",
    "        filepaths = [filename for filename in filenames if \".json\" in filename]\n",
    "        if filepaths:\n",
    "            for filepath in filepaths:\n",
    "                # print(df.shape)\n",
    "                df = load_data_from_json(df, path+\"/\"+filepath)\n",
    "    return df"
   ]
  },
  {
   "cell_type": "markdown",
   "id": "7cb98486",
   "metadata": {},
   "source": [
    "### ETL for the songs DataFrame"
   ]
  },
  {
   "cell_type": "code",
   "execution_count": 3,
   "id": "6864da6d",
   "metadata": {},
   "outputs": [
    {
     "data": {
      "text/plain": [
       "(71, 10)"
      ]
     },
     "execution_count": 3,
     "metadata": {},
     "output_type": "execute_result"
    }
   ],
   "source": [
    "df_songs = pd.DataFrame()\n",
    "df_songs = load_dataset(df_songs, \"../data/song_data/\")\n",
    "df_songs.shape"
   ]
  },
  {
   "cell_type": "code",
   "execution_count": 4,
   "id": "396e006b",
   "metadata": {},
   "outputs": [
    {
     "data": {
      "text/html": [
       "<div>\n",
       "<style scoped>\n",
       "    .dataframe tbody tr th:only-of-type {\n",
       "        vertical-align: middle;\n",
       "    }\n",
       "\n",
       "    .dataframe tbody tr th {\n",
       "        vertical-align: top;\n",
       "    }\n",
       "\n",
       "    .dataframe thead th {\n",
       "        text-align: right;\n",
       "    }\n",
       "</style>\n",
       "<table border=\"1\" class=\"dataframe\">\n",
       "  <thead>\n",
       "    <tr style=\"text-align: right;\">\n",
       "      <th></th>\n",
       "      <th>num_songs</th>\n",
       "      <th>artist_id</th>\n",
       "      <th>artist_latitude</th>\n",
       "      <th>artist_longitude</th>\n",
       "      <th>artist_location</th>\n",
       "      <th>artist_name</th>\n",
       "      <th>song_id</th>\n",
       "      <th>title</th>\n",
       "      <th>duration</th>\n",
       "      <th>year</th>\n",
       "    </tr>\n",
       "  </thead>\n",
       "  <tbody>\n",
       "    <tr>\n",
       "      <th>0</th>\n",
       "      <td>1</td>\n",
       "      <td>AR7G5I41187FB4CE6C</td>\n",
       "      <td>NaN</td>\n",
       "      <td>NaN</td>\n",
       "      <td>London, England</td>\n",
       "      <td>Adam Ant</td>\n",
       "      <td>SONHOTT12A8C13493C</td>\n",
       "      <td>Something Girls</td>\n",
       "      <td>233.40363</td>\n",
       "      <td>1982</td>\n",
       "    </tr>\n",
       "    <tr>\n",
       "      <th>0</th>\n",
       "      <td>1</td>\n",
       "      <td>AR8ZCNI1187B9A069B</td>\n",
       "      <td>NaN</td>\n",
       "      <td>NaN</td>\n",
       "      <td></td>\n",
       "      <td>Planet P Project</td>\n",
       "      <td>SOIAZJW12AB01853F1</td>\n",
       "      <td>Pink World</td>\n",
       "      <td>269.81832</td>\n",
       "      <td>1984</td>\n",
       "    </tr>\n",
       "    <tr>\n",
       "      <th>0</th>\n",
       "      <td>1</td>\n",
       "      <td>ARXR32B1187FB57099</td>\n",
       "      <td>NaN</td>\n",
       "      <td>NaN</td>\n",
       "      <td></td>\n",
       "      <td>Gob</td>\n",
       "      <td>SOFSOCN12A8C143F5D</td>\n",
       "      <td>Face the Ashes</td>\n",
       "      <td>209.60608</td>\n",
       "      <td>2007</td>\n",
       "    </tr>\n",
       "    <tr>\n",
       "      <th>0</th>\n",
       "      <td>1</td>\n",
       "      <td>AR10USD1187B99F3F1</td>\n",
       "      <td>NaN</td>\n",
       "      <td>NaN</td>\n",
       "      <td>Burlington, Ontario, Canada</td>\n",
       "      <td>Tweeterfriendly Music</td>\n",
       "      <td>SOHKNRJ12A6701D1F8</td>\n",
       "      <td>Drop of Rain</td>\n",
       "      <td>189.57016</td>\n",
       "      <td>0</td>\n",
       "    </tr>\n",
       "    <tr>\n",
       "      <th>0</th>\n",
       "      <td>1</td>\n",
       "      <td>ARGSJW91187B9B1D6B</td>\n",
       "      <td>35.21962</td>\n",
       "      <td>-80.01955</td>\n",
       "      <td>North Carolina</td>\n",
       "      <td>JennyAnyKind</td>\n",
       "      <td>SOQHXMF12AB0182363</td>\n",
       "      <td>Young Boy Blues</td>\n",
       "      <td>218.77506</td>\n",
       "      <td>0</td>\n",
       "    </tr>\n",
       "  </tbody>\n",
       "</table>\n",
       "</div>"
      ],
      "text/plain": [
       "   num_songs           artist_id  artist_latitude  artist_longitude  \\\n",
       "0          1  AR7G5I41187FB4CE6C              NaN               NaN   \n",
       "0          1  AR8ZCNI1187B9A069B              NaN               NaN   \n",
       "0          1  ARXR32B1187FB57099              NaN               NaN   \n",
       "0          1  AR10USD1187B99F3F1              NaN               NaN   \n",
       "0          1  ARGSJW91187B9B1D6B         35.21962         -80.01955   \n",
       "\n",
       "               artist_location            artist_name             song_id  \\\n",
       "0              London, England               Adam Ant  SONHOTT12A8C13493C   \n",
       "0                                    Planet P Project  SOIAZJW12AB01853F1   \n",
       "0                                                 Gob  SOFSOCN12A8C143F5D   \n",
       "0  Burlington, Ontario, Canada  Tweeterfriendly Music  SOHKNRJ12A6701D1F8   \n",
       "0               North Carolina           JennyAnyKind  SOQHXMF12AB0182363   \n",
       "\n",
       "             title   duration  year  \n",
       "0  Something Girls  233.40363  1982  \n",
       "0       Pink World  269.81832  1984  \n",
       "0   Face the Ashes  209.60608  2007  \n",
       "0     Drop of Rain  189.57016     0  \n",
       "0  Young Boy Blues  218.77506     0  "
      ]
     },
     "execution_count": 4,
     "metadata": {},
     "output_type": "execute_result"
    }
   ],
   "source": [
    "df_songs.head()"
   ]
  },
  {
   "cell_type": "markdown",
   "id": "b59d494a",
   "metadata": {},
   "source": [
    "As we can see, we have information about both the songs and the artists in this df. Let's work with that info to fill the psql database."
   ]
  },
  {
   "cell_type": "code",
   "execution_count": 5,
   "id": "0ed87072",
   "metadata": {},
   "outputs": [
    {
     "data": {
      "text/html": [
       "<div>\n",
       "<style scoped>\n",
       "    .dataframe tbody tr th:only-of-type {\n",
       "        vertical-align: middle;\n",
       "    }\n",
       "\n",
       "    .dataframe tbody tr th {\n",
       "        vertical-align: top;\n",
       "    }\n",
       "\n",
       "    .dataframe thead th {\n",
       "        text-align: right;\n",
       "    }\n",
       "</style>\n",
       "<table border=\"1\" class=\"dataframe\">\n",
       "  <thead>\n",
       "    <tr style=\"text-align: right;\">\n",
       "      <th></th>\n",
       "      <th>song_id</th>\n",
       "      <th>title</th>\n",
       "      <th>artist_id</th>\n",
       "      <th>year</th>\n",
       "      <th>duration</th>\n",
       "    </tr>\n",
       "  </thead>\n",
       "  <tbody>\n",
       "    <tr>\n",
       "      <th>0</th>\n",
       "      <td>SONHOTT12A8C13493C</td>\n",
       "      <td>Something Girls</td>\n",
       "      <td>AR7G5I41187FB4CE6C</td>\n",
       "      <td>1982</td>\n",
       "      <td>233.40363</td>\n",
       "    </tr>\n",
       "    <tr>\n",
       "      <th>1</th>\n",
       "      <td>SOIAZJW12AB01853F1</td>\n",
       "      <td>Pink World</td>\n",
       "      <td>AR8ZCNI1187B9A069B</td>\n",
       "      <td>1984</td>\n",
       "      <td>269.81832</td>\n",
       "    </tr>\n",
       "    <tr>\n",
       "      <th>2</th>\n",
       "      <td>SOFSOCN12A8C143F5D</td>\n",
       "      <td>Face the Ashes</td>\n",
       "      <td>ARXR32B1187FB57099</td>\n",
       "      <td>2007</td>\n",
       "      <td>209.60608</td>\n",
       "    </tr>\n",
       "    <tr>\n",
       "      <th>3</th>\n",
       "      <td>SOHKNRJ12A6701D1F8</td>\n",
       "      <td>Drop of Rain</td>\n",
       "      <td>AR10USD1187B99F3F1</td>\n",
       "      <td>0</td>\n",
       "      <td>189.57016</td>\n",
       "    </tr>\n",
       "    <tr>\n",
       "      <th>4</th>\n",
       "      <td>SOQHXMF12AB0182363</td>\n",
       "      <td>Young Boy Blues</td>\n",
       "      <td>ARGSJW91187B9B1D6B</td>\n",
       "      <td>0</td>\n",
       "      <td>218.77506</td>\n",
       "    </tr>\n",
       "  </tbody>\n",
       "</table>\n",
       "</div>"
      ],
      "text/plain": [
       "              song_id            title           artist_id  year   duration\n",
       "0  SONHOTT12A8C13493C  Something Girls  AR7G5I41187FB4CE6C  1982  233.40363\n",
       "1  SOIAZJW12AB01853F1       Pink World  AR8ZCNI1187B9A069B  1984  269.81832\n",
       "2  SOFSOCN12A8C143F5D   Face the Ashes  ARXR32B1187FB57099  2007  209.60608\n",
       "3  SOHKNRJ12A6701D1F8     Drop of Rain  AR10USD1187B99F3F1     0  189.57016\n",
       "4  SOQHXMF12AB0182363  Young Boy Blues  ARGSJW91187B9B1D6B     0  218.77506"
      ]
     },
     "execution_count": 5,
     "metadata": {},
     "output_type": "execute_result"
    }
   ],
   "source": [
    "songs_data = df_songs[[\"song_id\", \"title\", \"artist_id\", \"year\", \"duration\"]]\n",
    "songs_data.reset_index(inplace=True, drop=True)\n",
    "songs_data.head()"
   ]
  },
  {
   "cell_type": "code",
   "execution_count": 6,
   "id": "c364c629",
   "metadata": {},
   "outputs": [
    {
     "name": "stderr",
     "output_type": "stream",
     "text": [
      "/Users/alfredo.leon/opt/miniconda3/envs/dmp/lib/python3.7/site-packages/pandas/util/_decorators.py:311: SettingWithCopyWarning: \n",
      "A value is trying to be set on a copy of a slice from a DataFrame\n",
      "\n",
      "See the caveats in the documentation: https://pandas.pydata.org/pandas-docs/stable/user_guide/indexing.html#returning-a-view-versus-a-copy\n",
      "  return func(*args, **kwargs)\n"
     ]
    },
    {
     "data": {
      "text/html": [
       "<div>\n",
       "<style scoped>\n",
       "    .dataframe tbody tr th:only-of-type {\n",
       "        vertical-align: middle;\n",
       "    }\n",
       "\n",
       "    .dataframe tbody tr th {\n",
       "        vertical-align: top;\n",
       "    }\n",
       "\n",
       "    .dataframe thead th {\n",
       "        text-align: right;\n",
       "    }\n",
       "</style>\n",
       "<table border=\"1\" class=\"dataframe\">\n",
       "  <thead>\n",
       "    <tr style=\"text-align: right;\">\n",
       "      <th></th>\n",
       "      <th>artist_id</th>\n",
       "      <th>artist_name</th>\n",
       "      <th>artist_location</th>\n",
       "      <th>artist_latitude</th>\n",
       "      <th>artist_longitude</th>\n",
       "    </tr>\n",
       "  </thead>\n",
       "  <tbody>\n",
       "    <tr>\n",
       "      <th>0</th>\n",
       "      <td>AR7G5I41187FB4CE6C</td>\n",
       "      <td>Adam Ant</td>\n",
       "      <td>London, England</td>\n",
       "      <td>NaN</td>\n",
       "      <td>NaN</td>\n",
       "    </tr>\n",
       "    <tr>\n",
       "      <th>1</th>\n",
       "      <td>AR8ZCNI1187B9A069B</td>\n",
       "      <td>Planet P Project</td>\n",
       "      <td></td>\n",
       "      <td>NaN</td>\n",
       "      <td>NaN</td>\n",
       "    </tr>\n",
       "    <tr>\n",
       "      <th>2</th>\n",
       "      <td>ARXR32B1187FB57099</td>\n",
       "      <td>Gob</td>\n",
       "      <td></td>\n",
       "      <td>NaN</td>\n",
       "      <td>NaN</td>\n",
       "    </tr>\n",
       "    <tr>\n",
       "      <th>3</th>\n",
       "      <td>AR10USD1187B99F3F1</td>\n",
       "      <td>Tweeterfriendly Music</td>\n",
       "      <td>Burlington, Ontario, Canada</td>\n",
       "      <td>NaN</td>\n",
       "      <td>NaN</td>\n",
       "    </tr>\n",
       "    <tr>\n",
       "      <th>4</th>\n",
       "      <td>ARGSJW91187B9B1D6B</td>\n",
       "      <td>JennyAnyKind</td>\n",
       "      <td>North Carolina</td>\n",
       "      <td>35.21962</td>\n",
       "      <td>-80.01955</td>\n",
       "    </tr>\n",
       "  </tbody>\n",
       "</table>\n",
       "</div>"
      ],
      "text/plain": [
       "            artist_id            artist_name              artist_location  \\\n",
       "0  AR7G5I41187FB4CE6C               Adam Ant              London, England   \n",
       "1  AR8ZCNI1187B9A069B       Planet P Project                                \n",
       "2  ARXR32B1187FB57099                    Gob                                \n",
       "3  AR10USD1187B99F3F1  Tweeterfriendly Music  Burlington, Ontario, Canada   \n",
       "4  ARGSJW91187B9B1D6B           JennyAnyKind               North Carolina   \n",
       "\n",
       "   artist_latitude  artist_longitude  \n",
       "0              NaN               NaN  \n",
       "1              NaN               NaN  \n",
       "2              NaN               NaN  \n",
       "3              NaN               NaN  \n",
       "4         35.21962         -80.01955  "
      ]
     },
     "execution_count": 6,
     "metadata": {},
     "output_type": "execute_result"
    }
   ],
   "source": [
    "artist_data = df_songs[[\"artist_id\", \"artist_name\", \"artist_location\", \"artist_latitude\", \"artist_longitude\"]]\n",
    "artist_data.reset_index(inplace=True, drop=True)\n",
    "artist_data.drop_duplicates(subset=\"artist_id\", inplace=True)\n",
    "artist_data.head()"
   ]
  },
  {
   "cell_type": "code",
   "execution_count": 7,
   "id": "dff60576",
   "metadata": {},
   "outputs": [
    {
     "data": {
      "text/plain": [
       "(69, 5)"
      ]
     },
     "execution_count": 7,
     "metadata": {},
     "output_type": "execute_result"
    }
   ],
   "source": [
    "artist_data.shape"
   ]
  },
  {
   "cell_type": "code",
   "execution_count": 8,
   "id": "34d9035e",
   "metadata": {},
   "outputs": [
    {
     "data": {
      "text/html": [
       "<div>\n",
       "<style scoped>\n",
       "    .dataframe tbody tr th:only-of-type {\n",
       "        vertical-align: middle;\n",
       "    }\n",
       "\n",
       "    .dataframe tbody tr th {\n",
       "        vertical-align: top;\n",
       "    }\n",
       "\n",
       "    .dataframe thead th {\n",
       "        text-align: right;\n",
       "    }\n",
       "</style>\n",
       "<table border=\"1\" class=\"dataframe\">\n",
       "  <thead>\n",
       "    <tr style=\"text-align: right;\">\n",
       "      <th></th>\n",
       "      <th>artist_id</th>\n",
       "      <th>artist_name</th>\n",
       "      <th>artist_location</th>\n",
       "      <th>artist_latitude</th>\n",
       "      <th>artist_longitude</th>\n",
       "    </tr>\n",
       "  </thead>\n",
       "  <tbody>\n",
       "    <tr>\n",
       "      <th>4</th>\n",
       "      <td>ARGSJW91187B9B1D6B</td>\n",
       "      <td>JennyAnyKind</td>\n",
       "      <td>North Carolina</td>\n",
       "      <td>35.21962</td>\n",
       "      <td>-80.01955</td>\n",
       "    </tr>\n",
       "  </tbody>\n",
       "</table>\n",
       "</div>"
      ],
      "text/plain": [
       "            artist_id   artist_name artist_location  artist_latitude  \\\n",
       "4  ARGSJW91187B9B1D6B  JennyAnyKind  North Carolina         35.21962   \n",
       "\n",
       "   artist_longitude  \n",
       "4         -80.01955  "
      ]
     },
     "execution_count": 8,
     "metadata": {},
     "output_type": "execute_result"
    }
   ],
   "source": [
    "artist_data[artist_data[\"artist_id\"] == \"ARGSJW91187B9B1D6B\"]"
   ]
  },
  {
   "cell_type": "markdown",
   "id": "9290c957",
   "metadata": {},
   "source": [
    "#### Populating song and artist table"
   ]
  },
  {
   "cell_type": "code",
   "execution_count": 9,
   "id": "5cd0284b",
   "metadata": {},
   "outputs": [],
   "source": [
    "pc = PostgresConnector(host=\"localhost\", port=5432, user=\"aleon\", password=\"psqludacity\", dbname=\"sparkify\")"
   ]
  },
  {
   "cell_type": "code",
   "execution_count": 10,
   "id": "1f6ed984",
   "metadata": {},
   "outputs": [
    {
     "name": "stdout",
     "output_type": "stream",
     "text": [
      "cannot drop table song because other objects depend on it\n",
      "DETAIL:  constraint songplays_song_id_fkey on table songplays depends on table song\n",
      "HINT:  Use DROP ... CASCADE to drop the dependent objects too.\n",
      "\n",
      "Error when dropping table. Try again.\n",
      "Successfully created table.\n"
     ]
    }
   ],
   "source": [
    "pc.drop_tables([song_table_drop])\n",
    "pc.create_tables([song_table_create])\n",
    "pc.insert_data(song_table_insert, songs_data)"
   ]
  },
  {
   "cell_type": "code",
   "execution_count": 11,
   "id": "bce9922a",
   "metadata": {},
   "outputs": [
    {
     "name": "stdout",
     "output_type": "stream",
     "text": [
      "cannot drop table artist because other objects depend on it\n",
      "DETAIL:  constraint song_artist_id_fkey on table song depends on table artist\n",
      "constraint songplays_artist_id_fkey on table songplays depends on table artist\n",
      "HINT:  Use DROP ... CASCADE to drop the dependent objects too.\n",
      "\n",
      "Error when dropping table. Try again.\n",
      "Successfully created table.\n",
      "None\n",
      "duplicate key value violates unique constraint \"artist_pkey\"\n",
      "DETAIL:  Key (artist_id)=(AR7G5I41187FB4CE6C) already exists.\n",
      "\n",
      "Error when inserting data. Rolling back.\n"
     ]
    }
   ],
   "source": [
    "pc.drop_tables([artist_table_drop])\n",
    "pc.create_tables([artist_table_create])\n",
    "pc.insert_data(artist_table_insert, artist_data)"
   ]
  },
  {
   "cell_type": "markdown",
   "id": "46410293",
   "metadata": {},
   "source": [
    "### ETL for Logs DataFrame"
   ]
  },
  {
   "cell_type": "code",
   "execution_count": 12,
   "id": "b31e82a4",
   "metadata": {},
   "outputs": [
    {
     "data": {
      "text/plain": [
       "(8056, 18)"
      ]
     },
     "execution_count": 12,
     "metadata": {},
     "output_type": "execute_result"
    }
   ],
   "source": [
    "df_logs = pd.DataFrame()\n",
    "df_logs = load_dataset(df_logs, \"../data/log_data/\")\n",
    "df_logs.shape"
   ]
  },
  {
   "cell_type": "code",
   "execution_count": 13,
   "id": "6f3f552b",
   "metadata": {},
   "outputs": [
    {
     "data": {
      "text/html": [
       "<div>\n",
       "<style scoped>\n",
       "    .dataframe tbody tr th:only-of-type {\n",
       "        vertical-align: middle;\n",
       "    }\n",
       "\n",
       "    .dataframe tbody tr th {\n",
       "        vertical-align: top;\n",
       "    }\n",
       "\n",
       "    .dataframe thead th {\n",
       "        text-align: right;\n",
       "    }\n",
       "</style>\n",
       "<table border=\"1\" class=\"dataframe\">\n",
       "  <thead>\n",
       "    <tr style=\"text-align: right;\">\n",
       "      <th></th>\n",
       "      <th>artist</th>\n",
       "      <th>auth</th>\n",
       "      <th>firstName</th>\n",
       "      <th>gender</th>\n",
       "      <th>itemInSession</th>\n",
       "      <th>lastName</th>\n",
       "      <th>length</th>\n",
       "      <th>level</th>\n",
       "      <th>location</th>\n",
       "      <th>method</th>\n",
       "      <th>page</th>\n",
       "      <th>registration</th>\n",
       "      <th>sessionId</th>\n",
       "      <th>song</th>\n",
       "      <th>status</th>\n",
       "      <th>ts</th>\n",
       "      <th>userAgent</th>\n",
       "      <th>userId</th>\n",
       "    </tr>\n",
       "  </thead>\n",
       "  <tbody>\n",
       "    <tr>\n",
       "      <th>0</th>\n",
       "      <td>Frumpies</td>\n",
       "      <td>Logged In</td>\n",
       "      <td>Anabelle</td>\n",
       "      <td>F</td>\n",
       "      <td>0</td>\n",
       "      <td>Simpson</td>\n",
       "      <td>134.47791</td>\n",
       "      <td>free</td>\n",
       "      <td>Philadelphia-Camden-Wilmington, PA-NJ-DE-MD</td>\n",
       "      <td>PUT</td>\n",
       "      <td>NextSong</td>\n",
       "      <td>1.541044e+12</td>\n",
       "      <td>455</td>\n",
       "      <td>Fuck Kitty</td>\n",
       "      <td>200</td>\n",
       "      <td>1541903636796</td>\n",
       "      <td>\"Mozilla/5.0 (Macintosh; Intel Mac OS X 10_9_4...</td>\n",
       "      <td>69</td>\n",
       "    </tr>\n",
       "    <tr>\n",
       "      <th>1</th>\n",
       "      <td>Kenny G with Peabo Bryson</td>\n",
       "      <td>Logged In</td>\n",
       "      <td>Anabelle</td>\n",
       "      <td>F</td>\n",
       "      <td>1</td>\n",
       "      <td>Simpson</td>\n",
       "      <td>264.75057</td>\n",
       "      <td>free</td>\n",
       "      <td>Philadelphia-Camden-Wilmington, PA-NJ-DE-MD</td>\n",
       "      <td>PUT</td>\n",
       "      <td>NextSong</td>\n",
       "      <td>1.541044e+12</td>\n",
       "      <td>455</td>\n",
       "      <td>By The Time This Night Is Over</td>\n",
       "      <td>200</td>\n",
       "      <td>1541903770796</td>\n",
       "      <td>\"Mozilla/5.0 (Macintosh; Intel Mac OS X 10_9_4...</td>\n",
       "      <td>69</td>\n",
       "    </tr>\n",
       "    <tr>\n",
       "      <th>2</th>\n",
       "      <td>Biffy Clyro</td>\n",
       "      <td>Logged In</td>\n",
       "      <td>Anabelle</td>\n",
       "      <td>F</td>\n",
       "      <td>2</td>\n",
       "      <td>Simpson</td>\n",
       "      <td>189.83138</td>\n",
       "      <td>free</td>\n",
       "      <td>Philadelphia-Camden-Wilmington, PA-NJ-DE-MD</td>\n",
       "      <td>PUT</td>\n",
       "      <td>NextSong</td>\n",
       "      <td>1.541044e+12</td>\n",
       "      <td>455</td>\n",
       "      <td>God &amp; Satan</td>\n",
       "      <td>200</td>\n",
       "      <td>1541904034796</td>\n",
       "      <td>\"Mozilla/5.0 (Macintosh; Intel Mac OS X 10_9_4...</td>\n",
       "      <td>69</td>\n",
       "    </tr>\n",
       "    <tr>\n",
       "      <th>3</th>\n",
       "      <td>None</td>\n",
       "      <td>Logged In</td>\n",
       "      <td>Lily</td>\n",
       "      <td>F</td>\n",
       "      <td>0</td>\n",
       "      <td>Burns</td>\n",
       "      <td>NaN</td>\n",
       "      <td>free</td>\n",
       "      <td>New York-Newark-Jersey City, NY-NJ-PA</td>\n",
       "      <td>GET</td>\n",
       "      <td>Home</td>\n",
       "      <td>1.540621e+12</td>\n",
       "      <td>456</td>\n",
       "      <td>None</td>\n",
       "      <td>200</td>\n",
       "      <td>1541910841796</td>\n",
       "      <td>\"Mozilla/5.0 (Windows NT 6.1; WOW64) AppleWebK...</td>\n",
       "      <td>32</td>\n",
       "    </tr>\n",
       "    <tr>\n",
       "      <th>4</th>\n",
       "      <td>HIM</td>\n",
       "      <td>Logged In</td>\n",
       "      <td>Lily</td>\n",
       "      <td>F</td>\n",
       "      <td>1</td>\n",
       "      <td>Burns</td>\n",
       "      <td>212.06159</td>\n",
       "      <td>free</td>\n",
       "      <td>New York-Newark-Jersey City, NY-NJ-PA</td>\n",
       "      <td>PUT</td>\n",
       "      <td>NextSong</td>\n",
       "      <td>1.540621e+12</td>\n",
       "      <td>456</td>\n",
       "      <td>Beautiful</td>\n",
       "      <td>200</td>\n",
       "      <td>1541910973796</td>\n",
       "      <td>\"Mozilla/5.0 (Windows NT 6.1; WOW64) AppleWebK...</td>\n",
       "      <td>32</td>\n",
       "    </tr>\n",
       "  </tbody>\n",
       "</table>\n",
       "</div>"
      ],
      "text/plain": [
       "                      artist       auth firstName gender  itemInSession  \\\n",
       "0                   Frumpies  Logged In  Anabelle      F              0   \n",
       "1  Kenny G with Peabo Bryson  Logged In  Anabelle      F              1   \n",
       "2                Biffy Clyro  Logged In  Anabelle      F              2   \n",
       "3                       None  Logged In      Lily      F              0   \n",
       "4                        HIM  Logged In      Lily      F              1   \n",
       "\n",
       "  lastName     length level                                     location  \\\n",
       "0  Simpson  134.47791  free  Philadelphia-Camden-Wilmington, PA-NJ-DE-MD   \n",
       "1  Simpson  264.75057  free  Philadelphia-Camden-Wilmington, PA-NJ-DE-MD   \n",
       "2  Simpson  189.83138  free  Philadelphia-Camden-Wilmington, PA-NJ-DE-MD   \n",
       "3    Burns        NaN  free        New York-Newark-Jersey City, NY-NJ-PA   \n",
       "4    Burns  212.06159  free        New York-Newark-Jersey City, NY-NJ-PA   \n",
       "\n",
       "  method      page  registration  sessionId                            song  \\\n",
       "0    PUT  NextSong  1.541044e+12        455                      Fuck Kitty   \n",
       "1    PUT  NextSong  1.541044e+12        455  By The Time This Night Is Over   \n",
       "2    PUT  NextSong  1.541044e+12        455                     God & Satan   \n",
       "3    GET      Home  1.540621e+12        456                            None   \n",
       "4    PUT  NextSong  1.540621e+12        456                       Beautiful   \n",
       "\n",
       "   status             ts                                          userAgent  \\\n",
       "0     200  1541903636796  \"Mozilla/5.0 (Macintosh; Intel Mac OS X 10_9_4...   \n",
       "1     200  1541903770796  \"Mozilla/5.0 (Macintosh; Intel Mac OS X 10_9_4...   \n",
       "2     200  1541904034796  \"Mozilla/5.0 (Macintosh; Intel Mac OS X 10_9_4...   \n",
       "3     200  1541910841796  \"Mozilla/5.0 (Windows NT 6.1; WOW64) AppleWebK...   \n",
       "4     200  1541910973796  \"Mozilla/5.0 (Windows NT 6.1; WOW64) AppleWebK...   \n",
       "\n",
       "  userId  \n",
       "0     69  \n",
       "1     69  \n",
       "2     69  \n",
       "3     32  \n",
       "4     32  "
      ]
     },
     "execution_count": 13,
     "metadata": {},
     "output_type": "execute_result"
    }
   ],
   "source": [
    "df_logs.head()"
   ]
  },
  {
   "cell_type": "code",
   "execution_count": 14,
   "id": "a82449af",
   "metadata": {},
   "outputs": [],
   "source": [
    "df_logs[\"userId\"] = df_logs[\"userId\"].replace(\"\", -1).astype(int)"
   ]
  },
  {
   "cell_type": "markdown",
   "id": "a1d470f4",
   "metadata": {},
   "source": [
    "#### Populating the rest of the tables"
   ]
  },
  {
   "cell_type": "code",
   "execution_count": 15,
   "id": "36ff0238",
   "metadata": {},
   "outputs": [
    {
     "name": "stderr",
     "output_type": "stream",
     "text": [
      "/Users/alfredo.leon/opt/miniconda3/envs/dmp/lib/python3.7/site-packages/pandas/core/frame.py:3607: SettingWithCopyWarning: \n",
      "A value is trying to be set on a copy of a slice from a DataFrame.\n",
      "Try using .loc[row_indexer,col_indexer] = value instead\n",
      "\n",
      "See the caveats in the documentation: https://pandas.pydata.org/pandas-docs/stable/user_guide/indexing.html#returning-a-view-versus-a-copy\n",
      "  self._set_item(key, value)\n",
      "/Users/alfredo.leon/opt/miniconda3/envs/dmp/lib/python3.7/site-packages/pandas/util/_decorators.py:311: SettingWithCopyWarning: \n",
      "A value is trying to be set on a copy of a slice from a DataFrame\n",
      "\n",
      "See the caveats in the documentation: https://pandas.pydata.org/pandas-docs/stable/user_guide/indexing.html#returning-a-view-versus-a-copy\n",
      "  return func(*args, **kwargs)\n"
     ]
    }
   ],
   "source": [
    "# Create the user table\n",
    "user_data = df_logs[[\"userId\", \"firstName\", \"lastName\", \"gender\", \"level\"]]\n",
    "user_data[\"userId\"] = pd.to_numeric(user_data[\"userId\"], downcast=\"integer\")\n",
    "user_data.drop_duplicates(\"userId\", inplace=True)\n",
    "user_data.dropna(inplace=True, subset=[\"userId\"])\n",
    "user_data = user_data[user_data[\"userId\"] != \"\"]\n",
    "user_data.reset_index(inplace=True, drop=True)"
   ]
  },
  {
   "cell_type": "code",
   "execution_count": 16,
   "id": "7927bdc5",
   "metadata": {},
   "outputs": [
    {
     "name": "stdout",
     "output_type": "stream",
     "text": [
      "cannot drop table users because other objects depend on it\n",
      "DETAIL:  constraint songplays_user_id_fkey on table songplays depends on table users\n",
      "HINT:  Use DROP ... CASCADE to drop the dependent objects too.\n",
      "\n",
      "Error when dropping table. Try again.\n",
      "Successfully created table.\n",
      "None\n",
      "duplicate key value violates unique constraint \"users_pkey\"\n",
      "DETAIL:  Key (user_id)=(69) already exists.\n",
      "\n",
      "Error when inserting data. Rolling back.\n"
     ]
    }
   ],
   "source": [
    "pc.drop_tables([user_table_drop])\n",
    "pc.create_tables([user_table_create])\n",
    "pc.insert_data(user_table_insert, user_data)"
   ]
  },
  {
   "cell_type": "code",
   "execution_count": 17,
   "id": "998d0a81",
   "metadata": {},
   "outputs": [
    {
     "name": "stdout",
     "output_type": "stream",
     "text": [
      "2018-11-10 20:33:56.796000\n"
     ]
    }
   ],
   "source": [
    "print(datetime.datetime.fromtimestamp(1541903636796/1000))"
   ]
  },
  {
   "cell_type": "code",
   "execution_count": 18,
   "id": "7a9a433e",
   "metadata": {},
   "outputs": [
    {
     "name": "stderr",
     "output_type": "stream",
     "text": [
      "/Users/alfredo.leon/opt/miniconda3/envs/dmp/lib/python3.7/site-packages/ipykernel_launcher.py:8: FutureWarning: weekofyear and week have been deprecated, please use DatetimeIndex.isocalendar().week instead, which returns a Series.  To exactly reproduce the behavior of week and weekofyear and return an Index, you may call pd.Int64Index(idx.isocalendar().week)\n",
      "  \n",
      "/Users/alfredo.leon/opt/miniconda3/envs/dmp/lib/python3.7/site-packages/pandas/core/frame.py:4908: SettingWithCopyWarning: \n",
      "A value is trying to be set on a copy of a slice from a DataFrame\n",
      "\n",
      "See the caveats in the documentation: https://pandas.pydata.org/pandas-docs/stable/user_guide/indexing.html#returning-a-view-versus-a-copy\n",
      "  errors=errors,\n"
     ]
    },
    {
     "data": {
      "text/html": [
       "<div>\n",
       "<style scoped>\n",
       "    .dataframe tbody tr th:only-of-type {\n",
       "        vertical-align: middle;\n",
       "    }\n",
       "\n",
       "    .dataframe tbody tr th {\n",
       "        vertical-align: top;\n",
       "    }\n",
       "\n",
       "    .dataframe thead th {\n",
       "        text-align: right;\n",
       "    }\n",
       "</style>\n",
       "<table border=\"1\" class=\"dataframe\">\n",
       "  <thead>\n",
       "    <tr style=\"text-align: right;\">\n",
       "      <th></th>\n",
       "      <th>start_time</th>\n",
       "      <th>hour</th>\n",
       "      <th>day</th>\n",
       "      <th>week</th>\n",
       "      <th>month</th>\n",
       "      <th>year</th>\n",
       "      <th>weekday</th>\n",
       "    </tr>\n",
       "  </thead>\n",
       "  <tbody>\n",
       "    <tr>\n",
       "      <th>0</th>\n",
       "      <td>1541903636796</td>\n",
       "      <td>20</td>\n",
       "      <td>10</td>\n",
       "      <td>45</td>\n",
       "      <td>11</td>\n",
       "      <td>2018</td>\n",
       "      <td>5</td>\n",
       "    </tr>\n",
       "    <tr>\n",
       "      <th>1</th>\n",
       "      <td>1541903770796</td>\n",
       "      <td>20</td>\n",
       "      <td>10</td>\n",
       "      <td>45</td>\n",
       "      <td>11</td>\n",
       "      <td>2018</td>\n",
       "      <td>5</td>\n",
       "    </tr>\n",
       "    <tr>\n",
       "      <th>2</th>\n",
       "      <td>1541904034796</td>\n",
       "      <td>20</td>\n",
       "      <td>10</td>\n",
       "      <td>45</td>\n",
       "      <td>11</td>\n",
       "      <td>2018</td>\n",
       "      <td>5</td>\n",
       "    </tr>\n",
       "    <tr>\n",
       "      <th>3</th>\n",
       "      <td>1541910841796</td>\n",
       "      <td>22</td>\n",
       "      <td>10</td>\n",
       "      <td>45</td>\n",
       "      <td>11</td>\n",
       "      <td>2018</td>\n",
       "      <td>5</td>\n",
       "    </tr>\n",
       "    <tr>\n",
       "      <th>4</th>\n",
       "      <td>1541910973796</td>\n",
       "      <td>22</td>\n",
       "      <td>10</td>\n",
       "      <td>45</td>\n",
       "      <td>11</td>\n",
       "      <td>2018</td>\n",
       "      <td>5</td>\n",
       "    </tr>\n",
       "  </tbody>\n",
       "</table>\n",
       "</div>"
      ],
      "text/plain": [
       "      start_time  hour  day  week  month  year  weekday\n",
       "0  1541903636796    20   10    45     11  2018        5\n",
       "1  1541903770796    20   10    45     11  2018        5\n",
       "2  1541904034796    20   10    45     11  2018        5\n",
       "3  1541910841796    22   10    45     11  2018        5\n",
       "4  1541910973796    22   10    45     11  2018        5"
      ]
     },
     "execution_count": 18,
     "metadata": {},
     "output_type": "execute_result"
    }
   ],
   "source": [
    "# Create the time table\n",
    "time_data = df_logs[[\"ts\"]]\n",
    "time_data.drop_duplicates(\"ts\", inplace=True)\n",
    "time_data[\"start_time\"] = time_data[\"ts\"].astype(str)\n",
    "time_data[\"ts\"] = time_data[\"ts\"].apply(lambda x: datetime.datetime.fromtimestamp(x/1000))\n",
    "time_data[\"hour\"] = pd.DatetimeIndex(time_data[\"ts\"]).hour\n",
    "time_data[\"day\"] = pd.DatetimeIndex(time_data[\"ts\"]).day\n",
    "time_data[\"week\"] = pd.DatetimeIndex(time_data[\"ts\"]).weekofyear\n",
    "time_data[\"month\"] = pd.DatetimeIndex(time_data[\"ts\"]).month\n",
    "time_data[\"year\"] = pd.DatetimeIndex(time_data[\"ts\"]).year\n",
    "time_data[\"weekday\"] = pd.DatetimeIndex(time_data[\"ts\"]).weekday\n",
    "time_data.drop(columns=\"ts\", inplace=True)\n",
    "time_data.head()"
   ]
  },
  {
   "cell_type": "code",
   "execution_count": 19,
   "id": "39557baa",
   "metadata": {},
   "outputs": [
    {
     "name": "stdout",
     "output_type": "stream",
     "text": [
      "cannot drop table \"time\" because other objects depend on it\n",
      "DETAIL:  constraint songplays_start_time_fkey on table songplays depends on table \"time\"\n",
      "HINT:  Use DROP ... CASCADE to drop the dependent objects too.\n",
      "\n",
      "Error when dropping table. Try again.\n",
      "Successfully created table.\n",
      "None\n",
      "duplicate key value violates unique constraint \"time_pkey\"\n",
      "DETAIL:  Key (start_time)=(1541903636796) already exists.\n",
      "\n",
      "Error when inserting data. Rolling back.\n"
     ]
    }
   ],
   "source": [
    "pc.drop_tables([time_table_drop])\n",
    "pc.create_tables([time_table_create])\n",
    "pc.insert_data(time_table_insert, time_data)"
   ]
  },
  {
   "cell_type": "markdown",
   "id": "8dde6b48",
   "metadata": {},
   "source": [
    "### ETL for the songplays table"
   ]
  },
  {
   "cell_type": "code",
   "execution_count": 20,
   "id": "295998bf",
   "metadata": {},
   "outputs": [
    {
     "name": "stdout",
     "output_type": "stream",
     "text": [
      "Successfully dropped table.\n",
      "Successfully created table.\n"
     ]
    }
   ],
   "source": [
    "pc.drop_tables([songplay_table_drop])\n",
    "pc.create_tables([songplay_table_create])"
   ]
  },
  {
   "cell_type": "code",
   "execution_count": 21,
   "id": "1d020452",
   "metadata": {},
   "outputs": [
    {
     "name": "stdout",
     "output_type": "stream",
     "text": [
      "[('SOQHXMF12AB0182363', 'ARGSJW91187B9B1D6B')]\n"
     ]
    }
   ],
   "source": [
    "# Test the song_select query\n",
    "pc.get_cur().execute(song_select, (\"Young Boy Blues\", \"JennyAnyKind\", 218.77506))\n",
    "print(pc.get_cur().fetchall())"
   ]
  },
  {
   "cell_type": "code",
   "execution_count": 22,
   "id": "1b962261",
   "metadata": {},
   "outputs": [],
   "source": [
    "# Parse through the songs table and look for data on the logs.\n",
    "def query_song(pc: PostgresConnector, query, data):\n",
    "    try:\n",
    "        pc.get_cur().execute(query, data)\n",
    "        results = pc.get_cur().fetchone()\n",
    "        if results:\n",
    "            return results\n",
    "        else:\n",
    "            return None, None\n",
    "    except psycopg2.Error as e:\n",
    "        print(e) "
   ]
  },
  {
   "cell_type": "code",
   "execution_count": 23,
   "id": "7ea5ab7b",
   "metadata": {},
   "outputs": [
    {
     "name": "stderr",
     "output_type": "stream",
     "text": [
      "100%|███████████████████████████████████████████████████████████████████████████████████████████████████████████████████████████████████████████████████████████████████| 8056/8056 [01:15<00:00, 107.26it/s]\n"
     ]
    }
   ],
   "source": [
    "for index, row in tqdm(df_logs.iterrows(), total=df_logs.shape[0]):\n",
    "    song_id, artist_id = query_song(pc, song_select, (row[\"song\"], row[\"artist\"], row[\"length\"]))\n",
    "    #print(song_id, artist_id)\n",
    "    songplay_data = pd.DataFrame(columns=[\"start_time\", \"user_id\", \"level\", \"song_id\", \"artist_id\", \"session_id\", \n",
    "                                        \"location\", \"user_agent\"])\n",
    "    songplay_data = songplay_data.append({\"start_time\": row[\"ts\"], \"user_id\": row[\"userId\"], \"level\": row[\"level\"], \n",
    "                          \"song_id\": song_id, \"artist_id\": artist_id, \"session_id\": row[\"sessionId\"], \n",
    "                          \"location\": row[\"location\"], \"user_agent\": row[\"userAgent\"]}, ignore_index=True)\n",
    "    pc.insert_data(songplay_table_insert, songplay_data)"
   ]
  },
  {
   "cell_type": "code",
   "execution_count": null,
   "id": "5650eb78",
   "metadata": {},
   "outputs": [],
   "source": []
  }
 ],
 "metadata": {
  "kernelspec": {
   "display_name": "Python 3 (ipykernel)",
   "language": "python",
   "name": "python3"
  },
  "language_info": {
   "codemirror_mode": {
    "name": "ipython",
    "version": 3
   },
   "file_extension": ".py",
   "mimetype": "text/x-python",
   "name": "python",
   "nbconvert_exporter": "python",
   "pygments_lexer": "ipython3",
   "version": "3.7.10"
  }
 },
 "nbformat": 4,
 "nbformat_minor": 5
}
